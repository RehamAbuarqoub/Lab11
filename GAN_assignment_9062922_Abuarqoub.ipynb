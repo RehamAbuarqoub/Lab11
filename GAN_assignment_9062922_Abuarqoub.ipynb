{
 "cells": [
  {
   "cell_type": "markdown",
   "id": "c6663da1",
   "metadata": {},
   "source": [
    "# Additional Lab-11\n",
    "Reham Abuarqoub \n",
    "\n",
    "9062922"
   ]
  },
  {
   "cell_type": "markdown",
   "id": "e16f26b5",
   "metadata": {},
   "source": [
    "## Import libraries"
   ]
  },
  {
   "cell_type": "code",
   "execution_count": 10,
   "id": "cea2d3f3",
   "metadata": {},
   "outputs": [],
   "source": [
    "# Uncomment if not already installed\n",
    "# !pip install torch torchvision matplotlib numpy\n",
    "\n",
    "import torch\n",
    "import torch.nn as nn\n",
    "import numpy as np\n",
    "import matplotlib.pyplot as plt\n"
   ]
  },
  {
   "cell_type": "markdown",
   "id": "f413cb69",
   "metadata": {},
   "source": [
    "## Personalize Your Dataset"
   ]
  },
  {
   "cell_type": "code",
   "execution_count": 11,
   "id": "bd7f56c9",
   "metadata": {},
   "outputs": [
    {
     "data": {
      "image/png": "[encoded data removed]",
      "text/plain": [
       "<Figure size 640x480 with 1 Axes>"
      ]
     },
     "metadata": {},
     "output_type": "display_data"
    }
   ],
   "source": [
    "# Personal info\n",
    "student_id = \"9062922\"\n",
    "birth_city = \"Amman\"\n",
    "family_name = \"Abuarqoub\"\n",
    "\n",
    "# Create unique seed\n",
    "unique_seed = int(student_id) + sum([ord(c) for c in birth_city]) + sum([ord(c) for c in family_name])\n",
    "np.random.seed(unique_seed)\n",
    "\n",
    "# Personalized Gaussian distribution\n",
    "data_mean = len(family_name)         # 9\n",
    "data_std = len(birth_city)           # 5\n",
    "real_data = np.random.normal(loc=data_mean, scale=data_std, size=500)\n",
    "\n",
    "# Visualize real data\n",
    "plt.hist(real_data, bins=30, alpha=0.6, color='blue', label='Real Data')\n",
    "plt.title(\"Histogram of Real Data\")\n",
    "plt.legend()\n",
    "plt.show()\n"
   ]
  },
  {
   "cell_type": "markdown",
   "id": "840e4916",
   "metadata": {},
   "source": [
    "#### Talking point #1:\n",
    "I created a unique personalized dataset. by using my student ID, the country and city of birth, and my last name. I used these to build a personalized Gaussian distribution, so the data my GAN learns from is specific to me."
   ]
  },
  {
   "cell_type": "markdown",
   "id": "9bc3cb2a",
   "metadata": {},
   "source": [
    "##  Build Your GAN"
   ]
  },
  {
   "cell_type": "code",
   "execution_count": 12,
   "id": "d14ab9dd",
   "metadata": {},
   "outputs": [],
   "source": [
    "# Generator Network\n",
    "class Generator(nn.Module):\n",
    "    def __init__(self):\n",
    "        super(Generator, self).__init__()\n",
    "        self.model = nn.Sequential(\n",
    "            nn.Linear(10, 16),\n",
    "            nn.ReLU(),\n",
    "            nn.Linear(16, 1)\n",
    "        )\n",
    "\n",
    "    def forward(self, x):\n",
    "        return self.model(x)\n",
    "\n",
    "# Discriminator Network\n",
    "class Discriminator(nn.Module):\n",
    "    def __init__(self):\n",
    "        super(Discriminator, self).__init__()\n",
    "        self.model = nn.Sequential(\n",
    "            nn.Linear(1, 16),\n",
    "            nn.LeakyReLU(0.2),\n",
    "            nn.Linear(16, 1),\n",
    "            nn.Sigmoid()\n",
    "        )\n",
    "\n",
    "    def forward(self, x):\n",
    "        return self.model(x)\n"
   ]
  },
  {
   "cell_type": "markdown",
   "id": "904bc065",
   "metadata": {},
   "source": [
    "#### Talking point #2:\n",
    "I built a basic Generator that creates fake data from random noise, and a Discriminator that tries to tell if it’s real or fake. "
   ]
  },
  {
   "cell_type": "markdown",
   "id": "ee950995",
   "metadata": {},
   "source": [
    "## Train the GAN"
   ]
  },
  {
   "cell_type": "code",
   "execution_count": 13,
   "id": "f4597709",
   "metadata": {},
   "outputs": [
    {
     "name": "stdout",
     "output_type": "stream",
     "text": [
      "Epoch [0/200]  D Loss: 5.6054  G Loss: 0.7983\n",
      "Epoch [40/200]  D Loss: 3.4424  G Loss: 0.7141\n",
      "Epoch [80/200]  D Loss: 1.7258  G Loss: 0.7361\n",
      "Epoch [120/200]  D Loss: 1.0610  G Loss: 0.7658\n",
      "Epoch [160/200]  D Loss: 0.9039  G Loss: 0.7937\n",
      "Epoch [200/200]  D Loss: 0.8353  G Loss: 0.8289\n"
     ]
    }
   ],
   "source": [
    "# Initialize models\n",
    "G = Generator()\n",
    "D = Discriminator()\n",
    "\n",
    "# Loss function and optimizers\n",
    "criterion = nn.BCELoss()\n",
    "lr = 0.001\n",
    "G_opt = torch.optim.Adam(G.parameters(), lr=lr)\n",
    "D_opt = torch.optim.Adam(D.parameters(), lr=lr)\n",
    "\n",
    "# Real data as tensor\n",
    "real_data_tensor = torch.tensor(real_data, dtype=torch.float32).view(-1, 1)\n",
    "\n",
    "# Training loop\n",
    "for epoch in range(201):\n",
    "    # === Train Discriminator ===\n",
    "    D_opt.zero_grad()\n",
    "    \n",
    "    # Real\n",
    "    real_labels = torch.ones(real_data_tensor.size(0), 1)\n",
    "    real_outputs = D(real_data_tensor)\n",
    "    d_loss_real = criterion(real_outputs, real_labels)\n",
    "\n",
    "    # Fake\n",
    "    noise = torch.randn(real_data_tensor.size(0), 10)\n",
    "    fake_data = G(noise)\n",
    "    fake_labels = torch.zeros(real_data_tensor.size(0), 1)\n",
    "    fake_outputs = D(fake_data.detach())\n",
    "    d_loss_fake = criterion(fake_outputs, fake_labels)\n",
    "\n",
    "    d_loss = d_loss_real + d_loss_fake\n",
    "    d_loss.backward()\n",
    "    D_opt.step()\n",
    "\n",
    "    # === Train Generator ===\n",
    "    G_opt.zero_grad()\n",
    "    noise = torch.randn(real_data_tensor.size(0), 10)\n",
    "    fake_data = G(noise)\n",
    "    outputs = D(fake_data)\n",
    "    g_loss = criterion(outputs, real_labels)\n",
    "    g_loss.backward()\n",
    "    G_opt.step()\n",
    "\n",
    "    # Logging every 40 epochs\n",
    "    if epoch % 40 == 0:\n",
    "        print(f\"Epoch [{epoch}/200]  D Loss: {d_loss.item():.4f}  G Loss: {g_loss.item():.4f}\")\n"
   ]
  },
  {
   "cell_type": "markdown",
   "id": "708a97b4",
   "metadata": {},
   "source": [
    "#### Talking point #3:\n",
    "\n",
    "I trained both models by letting the Discriminator try to spot fake data, and the Generator try to trick it. I used a simple loss function and watched their progress every 40 steps to see how well they were learning."
   ]
  },
  {
   "cell_type": "markdown",
   "id": "953bbcdb",
   "metadata": {},
   "source": [
    "## Visualize the Results"
   ]
  },
  {
   "cell_type": "code",
   "execution_count": 14,
   "id": "3de6c81b",
   "metadata": {},
   "outputs": [
    {
     "data": {
      "image/png": "[encoded data removed]",
      "text/plain": [
       "<Figure size 640x480 with 1 Axes>"
      ]
     },
     "metadata": {},
     "output_type": "display_data"
    }
   ],
   "source": [
    "# Generate 500 fake samples\n",
    "with torch.no_grad():\n",
    "    test_noise = torch.randn(500, 10)\n",
    "    generated_data = G(test_noise).numpy()\n",
    "\n",
    "# Plot histogram\n",
    "plt.hist(real_data, bins=30, alpha=0.5, label='Real Data')\n",
    "plt.hist(generated_data, bins=30, alpha=0.5, label='Generated Data')\n",
    "plt.legend()\n",
    "plt.title(\"GAN Output vs Real Data\")\n",
    "plt.show()\n"
   ]
  },
  {
   "cell_type": "markdown",
   "id": "cebd2c8b",
   "metadata": {},
   "source": [
    "#### Talking point #4: \n",
    "After training, the Generator created data that was too narrow and centered around zero, while the real data was more spread out. This means the GAN started learning but still needs better tuning to match the real pattern.g"
   ]
  },
  {
   "cell_type": "markdown",
   "id": "de573fdd",
   "metadata": {},
   "source": [
    "## Conclusion:\n",
    "\n",
    "This assignment really helped me understand how GANs work. I built a simple one using my personal info, and it was interesting to watch how the Generator and Discriminator learned from each other. Even though the fake data wasn’t perfect, it still showed that the Generator was picking up on the real pattern. "
   ]
  }
 ],
 "metadata": {
  "kernelspec": {
   "display_name": "Python 3",
   "language": "python",
   "name": "python3"
  },
  "language_info": {
   "codemirror_mode": {
    "name": "ipython",
    "version": 3
   },
   "file_extension": ".py",
   "mimetype": "text/x-python",
   "name": "python",
   "nbconvert_exporter": "python",
   "pygments_lexer": "ipython3",
   "version": "3.12.9"
  }
 },
 "nbformat": 4,
 "nbformat_minor": 5
}
